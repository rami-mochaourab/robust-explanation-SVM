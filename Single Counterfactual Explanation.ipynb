{
 "cells": [
  {
   "cell_type": "markdown",
   "metadata": {},
   "source": [
    "# Code to generate Figure 4"
   ]
  },
  {
   "cell_type": "code",
   "execution_count": 1,
   "metadata": {},
   "outputs": [],
   "source": [
    "#import pandas as pd\n",
    "import numpy as np\n",
    "\n",
    "from sklearn.model_selection import train_test_split\n",
    "from sklearn import preprocessing\n",
    "\n",
    "from utils.svm import LinearSupportVectorMachine_noOffset\n",
    "from utils.RandFourier import RandomFourier\n",
    "from utils.functions import * \n",
    "\n",
    "from matplotlib.ticker import (MultipleLocator, FormatStrFormatter, AutoMinorLocator)\n",
    "\n",
    "import matplotlib\n",
    "import matplotlib.pyplot as plt\n",
    "\n",
    "figwidth = 8\n",
    "figheight = 4"
   ]
  },
  {
   "cell_type": "markdown",
   "metadata": {},
   "source": [
    "## Load and preprocess the data"
   ]
  },
  {
   "cell_type": "code",
   "execution_count": 2,
   "metadata": {},
   "outputs": [],
   "source": [
    "# Load Dataset\n",
    "X, Y, labels = load_wdbc()\n",
    "\n",
    "# Creat Train and Test sets\n",
    "X_train, X_test, ytrain, ytest = train_test_split(X, Y, test_size=0.3, random_state=1)\n",
    "y_train = np.asarray(ytrain)\n",
    "y_test = np.asarray(ytest)\n",
    "\n",
    "# Preprocess\n",
    "scaler = preprocessing.StandardScaler()\n",
    "scaler.fit(X_train)\n",
    "\n",
    "X_train_scaled = scaler.transform(X_train)\n",
    "X_test_scaled = scaler.transform(X_test)\n"
   ]
  },
  {
   "cell_type": "markdown",
   "metadata": {},
   "source": [
    "## Find a prototype for each class"
   ]
  },
  {
   "cell_type": "code",
   "execution_count": 3,
   "metadata": {},
   "outputs": [],
   "source": [
    "# prototype[0]: class 1\n",
    "# prototype[1]: class -1\n",
    "\n",
    "prototype = [np.mean(X_train_scaled[y_train == 1], axis=0), np.mean(X_train_scaled[y_train == -1], axis=0)]\n"
   ]
  },
  {
   "cell_type": "markdown",
   "metadata": {},
   "source": [
    "## Setting the parameters\n",
    "\n",
    "`F`: number of features for the RBF feature map approximation  \n",
    "`noise_lambda`: noise scale\n"
   ]
  },
  {
   "cell_type": "code",
   "execution_count": 4,
   "metadata": {},
   "outputs": [
    {
     "name": "stdout",
     "output_type": "stream",
     "text": [
      "C: 19.949937343260004\n",
      "noise scale lambda: 0.4010037656936684\n",
      "privacy beta: 5\n"
     ]
    }
   ],
   "source": [
    "n = X_train_scaled.shape[0] # number of training data points\n",
    "C = np.sqrt(n) # SVM parameter should scale as such (consistent classifier)\n",
    "print(\"C:\",C)\n",
    "\n",
    "# number of features (should be an even number)\n",
    "F = int(2*50) \n",
    "\n",
    "beta = 5\n",
    "\n",
    "# calculate noise scale: lambda \n",
    "noise_lambda = 4*C*np.sqrt(F)/(beta*n)\n",
    "print(\"noise scale lambda:\",noise_lambda)\n",
    "print(\"privacy beta:\",beta)"
   ]
  },
  {
   "cell_type": "markdown",
   "metadata": {},
   "source": [
    "## Random Fourier Features: RBF kernel approximation"
   ]
  },
  {
   "cell_type": "code",
   "execution_count": 5,
   "metadata": {},
   "outputs": [],
   "source": [
    "FM_transform = RandomFourier(n_components=F, random_state=1).fit(X_train_scaled)\n",
    "X_train_FM = FM_transform.transform(X_train_scaled)\n",
    "X_test_FM = FM_transform.transform(X_test_scaled)\n"
   ]
  },
  {
   "cell_type": "markdown",
   "metadata": {},
   "source": [
    "## Train SVM Classifier"
   ]
  },
  {
   "cell_type": "code",
   "execution_count": 6,
   "metadata": {},
   "outputs": [
    {
     "name": "stdout",
     "output_type": "stream",
     "text": [
      "Classification accuracy: 0.9239766081871345\n"
     ]
    }
   ],
   "source": [
    "SVM = LinearSupportVectorMachine_noOffset(C=C)\n",
    "lagr_multipliers, idx_support_vectors, support_vectors, support_vector_labels = SVM.fit(X_train_FM, y_train)\n",
    "\n",
    "# weight vector\n",
    "w = np.dot(lagr_multipliers*support_vector_labels,support_vectors)\n",
    "\n",
    "evaluation = np.sign(SVM.predict(X_test_FM).flatten()) == y_test\n",
    "print(\"Classification accuracy:\", sum(evaluation)/len(evaluation))\n"
   ]
  },
  {
   "cell_type": "markdown",
   "metadata": {},
   "source": [
    "## Generate Laplace noise"
   ]
  },
  {
   "cell_type": "code",
   "execution_count": 7,
   "metadata": {},
   "outputs": [
    {
     "name": "stdout",
     "output_type": "stream",
     "text": [
      "Classification accuracy: 0.8771929824561403\n"
     ]
    }
   ],
   "source": [
    "np.random.seed(seed=1)\n",
    "mu = np.random.laplace(loc=0.0, scale=noise_lambda, size=(1,F))\n",
    "\n",
    "evaluation_privacy = np.sign(SVM.predict(X_test_FM, mu).flatten()) == y_test\n",
    "print(\"Classification accuracy:\", sum(evaluation_privacy)/len(evaluation_privacy))\n"
   ]
  },
  {
   "cell_type": "markdown",
   "metadata": {},
   "source": [
    "## Check if prototypes are correctly classified"
   ]
  },
  {
   "cell_type": "code",
   "execution_count": 8,
   "metadata": {},
   "outputs": [
    {
     "name": "stdout",
     "output_type": "stream",
     "text": [
      "Correct prototypes' predictions!\n"
     ]
    }
   ],
   "source": [
    "prototype_prediction = np.sign(SVM.predict(FM_transform.transform(prototype), noise=mu))\n",
    "check = prototype_prediction.flatten() == [1,-1]\n",
    "if np.all(check):\n",
    "    print(\"Correct prototypes' predictions!\")\n",
    "else:\n",
    "    print(\"Misclassification of prototype\",check)\n"
   ]
  },
  {
   "cell_type": "markdown",
   "metadata": {},
   "source": [
    "## Select a test data instance whose classification we want to explain and select the prototype of different class"
   ]
  },
  {
   "cell_type": "code",
   "execution_count": 9,
   "metadata": {},
   "outputs": [
    {
     "name": "stdout",
     "output_type": "stream",
     "text": [
      "Index of selected test data: 30 -- Predicted class: [1.] -- True class label: 1\n"
     ]
    }
   ],
   "source": [
    "#np.random.seed(seed=1)\n",
    "#idx_selected = np.random.randint(0,len(X_test))\n",
    "idx_selected = 30\n",
    "instance = X_test_scaled[idx_selected]\n",
    "instance_transformed = FM_transform.transform(instance.reshape(1, -1))\n",
    "\n",
    "prediction_instance = np.sign(SVM.predict(instance_transformed, noise=mu).flatten())\n",
    "print(\"Index of selected test data:\", idx_selected, \"-- Predicted class:\", prediction_instance, \"-- True class label:\", y_test[idx_selected])\n",
    "\n",
    "# choose prototype of different class than instance\n",
    "selected_prototype = prototype[np.where(prediction_instance != [1,-1])[0][0]]\n",
    "selected_prototype_transformed = FM_transform.transform(selected_prototype.reshape(1, -1))\n"
   ]
  },
  {
   "cell_type": "markdown",
   "metadata": {},
   "source": [
    "## Counterfactual Explanation"
   ]
  },
  {
   "cell_type": "code",
   "execution_count": 10,
   "metadata": {
    "scrolled": true
   },
   "outputs": [],
   "source": [
    "proba = 0.9\n",
    "\n",
    "# Bisection\n",
    "explanation, plot_convergence = bisection_chance(instance, prediction_instance, selected_prototype, SVM, FM_transform, mu, noise_lambda, p=proba, acc=0.0001)\n"
   ]
  },
  {
   "cell_type": "code",
   "execution_count": 11,
   "metadata": {},
   "outputs": [
    {
     "data": {
      "image/png": "[encoded data removed]",
      "text/plain": [
       "<Figure size 800x400 with 1 Axes>"
      ]
     },
     "metadata": {
      "needs_background": "light"
     },
     "output_type": "display_data"
    }
   ],
   "source": [
    "# plot convergence\n",
    "fig, ax = plt.subplots(figsize=[figwidth, figheight], dpi=100)\n",
    "ax.plot(np.absolute(plot_convergence), c=\"tab:blue\", marker=\".\")\n",
    "ax.set(xlabel=\"iteration\", ylabel=\"$||{x}^{ub} - {x}^{lb}||$\", title='')\n",
    "ax.grid()\n",
    "plt.xticks(np.arange(0, 17, 1.0))\n",
    "plt.show()"
   ]
  },
  {
   "cell_type": "code",
   "execution_count": 12,
   "metadata": {},
   "outputs": [
    {
     "data": {
      "image/png": "[encoded data removed]",
      "text/plain": [
       "<Figure size 800x400 with 1 Axes>"
      ]
     },
     "metadata": {
      "needs_background": "light"
     },
     "output_type": "display_data"
    }
   ],
   "source": [
    "# Plot Explanation unscaled\n",
    "x = np.arange(len(labels))  # the label locations\n",
    "width = 0.4  # the width of the bars\n",
    "\n",
    "fig, ax = plt.subplots(figsize=[figwidth, figheight], dpi=100)\n",
    "ax.bar(x+1 , (unscale(explanation,scaler)-unscale(instance,scaler))/unscale(instance,scaler) , width, edgecolor='tab:blue', color=\"tab:blue\")\n",
    "\n",
    "ax.set_xlim((0,31))\n",
    "ax.xaxis.set_minor_locator(MultipleLocator(1))\n",
    "ax.xaxis.set_major_locator(MultipleLocator(3))\n",
    "ax.set(xlabel=\"feature number i\", ylabel=\"scaling to $x_i$\", title='')\n",
    "ax.grid(axis=\"y\")\n",
    "plt.show()"
   ]
  },
  {
   "cell_type": "code",
   "execution_count": null,
   "metadata": {},
   "outputs": [],
   "source": []
  },
  {
   "cell_type": "code",
   "execution_count": null,
   "metadata": {},
   "outputs": [],
   "source": []
  }
 ],
 "metadata": {
  "kernelspec": {
   "display_name": "robustXAI",
   "language": "python",
   "name": "robustxai"
  },
  "language_info": {
   "codemirror_mode": {
    "name": "ipython",
    "version": 3
   },
   "file_extension": ".py",
   "mimetype": "text/x-python",
   "name": "python",
   "nbconvert_exporter": "python",
   "pygments_lexer": "ipython3",
   "version": "3.8.5"
  }
 },
 "nbformat": 4,
 "nbformat_minor": 4
}
