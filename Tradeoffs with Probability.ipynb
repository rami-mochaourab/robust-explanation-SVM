{
 "cells": [
  {
   "cell_type": "markdown",
   "metadata": {},
   "source": [
    "# Code to generate Figure 5(b)"
   ]
  },
  {
   "cell_type": "code",
   "execution_count": 9,
   "metadata": {},
   "outputs": [],
   "source": [
    "import pandas as pd\n",
    "import numpy as np\n",
    "\n",
    "from sklearn.model_selection import train_test_split\n",
    "from sklearn import preprocessing\n",
    "\n",
    "from utils.svm import LinearSupportVectorMachine_noOffset\n",
    "from utils.RandFourier import RandomFourier\n",
    "from utils.functions import * \n",
    "\n",
    "from IPython.display import display, clear_output\n",
    "    \n",
    "import matplotlib\n",
    "import matplotlib.pyplot as plt\n",
    "\n",
    "figwidth = 8\n",
    "figheight = 4\n"
   ]
  },
  {
   "cell_type": "markdown",
   "metadata": {},
   "source": [
    "## Load and preprocess the data"
   ]
  },
  {
   "cell_type": "code",
   "execution_count": 10,
   "metadata": {},
   "outputs": [],
   "source": [
    "# Load Dataset\n",
    "X, Y, labels = load_wdbc()\n",
    "\n",
    "# Creat Train and Test sets\n",
    "X_train, X_test, ytrain, ytest = train_test_split(X, Y, test_size=0.3, random_state=1)\n",
    "y_train = np.asarray(ytrain)\n",
    "y_test = np.asarray(ytest)\n",
    "\n",
    "# Preprocess\n",
    "scaler = preprocessing.StandardScaler()\n",
    "scaler.fit(X_train)\n",
    "\n",
    "X_train_scaled = scaler.transform(X_train)\n",
    "X_test_scaled = scaler.transform(X_test)\n"
   ]
  },
  {
   "cell_type": "markdown",
   "metadata": {},
   "source": [
    "## Set parameters"
   ]
  },
  {
   "cell_type": "code",
   "execution_count": 11,
   "metadata": {},
   "outputs": [
    {
     "name": "stdout",
     "output_type": "stream",
     "text": [
      "C: 19.949937343260004\n"
     ]
    }
   ],
   "source": [
    "n = X_train_scaled.shape[0] # number of training data points\n",
    "C = np.sqrt(n) # SVM parameter should scale as such (consistent classifier)\n",
    "print(\"C:\",C)\n",
    "\n",
    "# number of features (should be an even number)\n",
    "F = int(2*50) "
   ]
  },
  {
   "cell_type": "markdown",
   "metadata": {},
   "source": [
    "## Find a prototype for each class"
   ]
  },
  {
   "cell_type": "code",
   "execution_count": 12,
   "metadata": {},
   "outputs": [],
   "source": [
    "# prototype[0]: class 1\n",
    "# prototype[1]: class -1\n",
    "\n",
    "prototype = [np.mean(X_train_scaled[y_train == 1], axis=0), np.mean(X_train_scaled[y_train == -1], axis=0)]\n"
   ]
  },
  {
   "cell_type": "markdown",
   "metadata": {},
   "source": [
    "## Fix noise and vary probability p and average over many realizations"
   ]
  },
  {
   "cell_type": "code",
   "execution_count": 13,
   "metadata": {},
   "outputs": [
    {
     "data": {
      "text/plain": [
       "'Iteration for averaging: 10/10 -- Iteration on Beta: 10/10'"
      ]
     },
     "metadata": {},
     "output_type": "display_data"
    }
   ],
   "source": [
    "gran = 10 # the number of betas to generate\n",
    "rep = 10 # sample size for averaging noise (choose high to get smoother curves)\n",
    "\n",
    "# probablity for the probabilistic constraint\n",
    "proba_v = np.linspace(0.5, 0.99, num=gran, endpoint=True)\n",
    "\n",
    "# beta\n",
    "beta = 5\n",
    "\n",
    "# noise scale: lambda\n",
    "lam = 4*C*np.sqrt(F)/(beta*n)\n",
    "\n",
    "accuracy = np.zeros((rep))\n",
    "distance_to_proto = np.zeros((rep))\n",
    "accuracy_private = np.zeros((rep,gran))\n",
    "\n",
    "explainability = np.zeros((rep,gran))\n",
    "explainability_private = np.zeros((rep,gran))\n",
    "explainability_robust = np.zeros((rep,gran))\n",
    "explainability_private_strength = np.zeros((rep,gran))\n",
    "explainability_robust_strength = np.zeros((rep,gran))\n",
    "\n",
    "# Approximation of kernel\n",
    "FM_transform = RandomFourier(n_components=F,random_state=1).fit(X_train_scaled)\n",
    "X_train_FM = FM_transform.transform(X_train_scaled)\n",
    "X_test_FM = FM_transform.transform(X_test_scaled)\n",
    "\n",
    "# Train classifier\n",
    "SVM = LinearSupportVectorMachine_noOffset(C=C)\n",
    "SVM.fit(X_train_FM, y_train)\n",
    "    \n",
    "# without noise\n",
    "# -------------\n",
    "## accuracy \n",
    "accuracy = sum(np.sign(SVM.predict(X_test_FM).flatten()) == y_test)/len(y_test) \n",
    "    \n",
    "# Iteration: noise and approximation sample\n",
    "for rep_idx in range(rep):\n",
    "\n",
    "    np.random.seed(seed=rep_idx)\n",
    "    \n",
    "    # selected instance to explain\n",
    "    idx_selected = np.random.randint(0,len(X_test))\n",
    "    instance = X_test_scaled[idx_selected]\n",
    "    instance_transformed = FM_transform.transform(instance.reshape(1, -1))\n",
    "    prediction_instance = np.sign(SVM.predict(instance_transformed).flatten())\n",
    "    selected_prototype = prototype[np.where(prediction_instance != [1,-1])[0][0]]\n",
    "    \n",
    "    ## explainability without noise\n",
    "    explanation, plot_convergence = bisection_chance(instance, prediction_instance, selected_prototype, SVM, FM_transform)\n",
    "    explainability[rep_idx] = np.linalg.norm(explanation-instance)\n",
    "    \n",
    "    distance_to_proto[rep_idx] = np.linalg.norm(selected_prototype-instance)\n",
    "    \n",
    "    # noise\n",
    "    # -----\n",
    "    mu = np.random.laplace(loc=0.0, scale=lam, size=(1,F))\n",
    "        \n",
    "    # Iteration: noise scale  \n",
    "    for p_idx in range(gran):\n",
    "\n",
    "        ## accuracy\n",
    "        accuracy_private[rep_idx,p_idx] = sum(np.sign(SVM.predict(X_test_FM, mu).flatten()) == y_test)/len(y_test)\n",
    "        \n",
    "        ## explainability non-robust\n",
    "        explanation_private, plot_convergence = bisection_chance(instance, prediction_instance, selected_prototype, SVM, FM_transform, mu)\n",
    "        explainability_private[rep_idx,p_idx] = np.linalg.norm(explanation_private-instance)\n",
    "        explainability_private_strength[rep_idx,p_idx] = prediction_instance*SVM.predict(FM_transform.transform(explanation_private.reshape(1, -1)), noise=0).flatten()\n",
    "    \n",
    "        ## explainability robust\n",
    "        explanation_robust, plot_convergence = bisection_chance(instance, prediction_instance, selected_prototype, SVM, FM_transform, mu, lam, p=proba_v[p_idx])\n",
    "        explainability_robust[rep_idx,p_idx] = np.linalg.norm(explanation_robust-instance)\n",
    "        explainability_robust_strength[rep_idx,p_idx] = prediction_instance*SVM.predict(FM_transform.transform(explanation_robust.reshape(1, -1)), noise=0).flatten()\n",
    "    \n",
    "        clear_output(wait=True)\n",
    "        display(\"Iteration for averaging: \"+str(rep_idx+1)+ '/' +str(rep) +\" -- Iteration on Beta: \"+ str(p_idx+1)+ '/' +str(gran)) \n",
    "        "
   ]
  },
  {
   "cell_type": "code",
   "execution_count": 14,
   "metadata": {},
   "outputs": [
    {
     "data": {
      "image/png": "[encoded data removed]",
      "text/plain": [
       "<Figure size 800x400 with 1 Axes>"
      ]
     },
     "metadata": {
      "needs_background": "light"
     },
     "output_type": "display_data"
    }
   ],
   "source": [
    "# Plot\n",
    "fig, ax = plt.subplots(figsize=[figwidth, figheight], dpi=100)\n",
    "ax.axhline(y=np.mean(distance_to_proto), c='tab:green', ls='--', marker='s', label=r'prototype')\n",
    "ax.plot(proba_v,np.mean(explainability_robust, axis=0), c=\"tab:red\", ls='-', label='robust explanations for private SVM')\n",
    "ax.plot(0.5,np.mean(explainability_robust[:,0], axis=0), c=\"tab:blue\",ls='', marker='o', label='non-robust explanations for private SVM')\n",
    "#ax.plot(proba_v,np.mean(explainability_private, axis=0), c=\"tab:blue\", ls='-', marker='.', label='non-robust explanation of private SVM')\n",
    "ax.axhline(y=np.mean(explainability), c='k', ls='--', label='explanations for non-private SVM')\n",
    "\n",
    "ax.set(xlabel='$p$', ylabel=\"average distance to $x'$\", title='')\n",
    "ax.set_xlim((0.49,1))\n",
    "ax.set_ylim((3,7.5))\n",
    "ax.legend(bbox_to_anchor=(0, .7),loc='center left',fontsize=8)\n",
    "ax.grid()\n",
    "plt.show()"
   ]
  },
  {
   "cell_type": "code",
   "execution_count": null,
   "metadata": {},
   "outputs": [],
   "source": []
  },
  {
   "cell_type": "code",
   "execution_count": null,
   "metadata": {},
   "outputs": [],
   "source": []
  },
  {
   "cell_type": "code",
   "execution_count": null,
   "metadata": {},
   "outputs": [],
   "source": []
  },
  {
   "cell_type": "code",
   "execution_count": null,
   "metadata": {},
   "outputs": [],
   "source": []
  }
 ],
 "metadata": {
  "kernelspec": {
   "display_name": "Python 3",
   "language": "python",
   "name": "python3"
  },
  "language_info": {
   "codemirror_mode": {
    "name": "ipython",
    "version": 3
   },
   "file_extension": ".py",
   "mimetype": "text/x-python",
   "name": "python",
   "nbconvert_exporter": "python",
   "pygments_lexer": "ipython3",
   "version": "3.8.5"
  }
 },
 "nbformat": 4,
 "nbformat_minor": 4
}
